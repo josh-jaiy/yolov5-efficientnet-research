{
  "cells": [
    {
      "cell_type": "markdown",
      "metadata": {},
      "source": [
        "# YOLOv5 + EfficientNet-B7 Research on Google Colab\n",
        "\n",
        "This notebook demonstrates the integration of EfficientNet-B7 as a backbone for YOLOv5 and compares it with the baseline YOLOv5s model.\n",
        "\n",
        "## 🎯 Objectives\n",
        "1. Setup the research environment\n",
        "2. Train baseline YOLOv5s model\n",
        "3. Train EfficientNet-B7 + YOLOv5 model\n",
        "4. Compare performance metrics\n",
        "5. Visualize results"
      ]
    },
    {
      "cell_type": "code",
      "execution_count": null,
      "metadata": {},
      "source": [
        "# Check GPU availability\n",
        "import torch\n",
        "print(f\"CUDA available: {torch.cuda.is_available()}\")\n",
        "print(f\"GPU: {torch.cuda.get_device_name(0) if torch.cuda.is_available() else 'None'}\")\n",
        "print(f\"PyTorch version: {torch.__version__}\")"
      ]
    },
    {
      "cell_type": "code",
      "execution_count": null,
      "metadata": {},
      "source": [
        "# Clone research repository\n",
        "!git clone https://github.com/josh-jaiy/yolov5-efficientnet-research.git\n",
        "%cd yolov5-efficientnet-research"
      ]
    },
    {
      "cell_type": "code",
      "execution_count": null,
      "metadata": {},
      "source": [
        "# Install dependencies\n",
        "!pip install -r requirements.txt\n",
        "\n",
        "# Clone YOLOv5\n",
        "!git clone https://github.com/ultralytics/yolov5.git\n",
        "%cd yolov5\n",
        "!pip install -r requirements.txt"
      ]
    },
    {
      "cell_type": "code",
      "execution_count": null,
      "metadata": {},
      "source": [
        "# Setup custom EfficientNet integration\n",
        "!cp ../models/efficientnet_adapter.py models/\n",
        "!cp ../configs/yolov5s_effnet_multiscale.yaml models/\n",
        "!cp ../modified_files/yolo.py models/"
      ]
    },
    {
      "cell_type": "code",
      "execution_count": null,
      "metadata": {},
      "source": [
        "# Test EfficientNet integration\n",
        "!python ../scripts/test_backbone_final.py"
      ]
    },
    {
      "cell_type": "code",
      "execution_count": null,
      "metadata": {},
      "source": [
        "# Train baseline YOLOv5s model\n",
        "!python train.py --data coco128.yaml --cfg models/yolov5s.yaml --weights yolov5s.pt --epochs 10 --name baseline_colab --batch-size 16"
      ]
    },
    {
      "cell_type": "code",
      "execution_count": null,
      "metadata": {},
      "source": [
        "# Train EfficientNet-B7 + YOLOv5 model (Memory Optimized)\n",
        "print(\"🚀 Starting EfficientNet-B7 training with optimized settings...\")\n",
        "print(\"📊 Configuration:\")\n",
        "print(\"   - Epochs: 5 (reduced for memory efficiency)\")\n",
        "print(\"   - Batch size: 4 (reduced for memory constraints)\")\n",
        "print(\"   - Mixed precision: Enabled (--amp for memory savings)\")\n",
        "print(\"   - Expected training time: ~15-20 minutes\")\n",
        "print()\n",
        "\n",
        "!python train.py --data coco128.yaml --cfg models/yolov5s_effnet_multiscale.yaml --epochs 5 --batch-size 4 --amp --name efficientnet_colab_optimized --device 0\n",
        "\n",
        "print(\"\\n✅ EfficientNet-B7 + YOLOv5 training completed!\")\n",
        "print(\"📈 Results saved to: runs/train/efficientnet_colab_optimized/\")"
      ]
    },
    {
      "cell_type": "code",
      "execution_count": null,
      "metadata": {},
      "source": [
        "# Compare results\n",
        "import pandas as pd\n",
        "import matplotlib.pyplot as plt\n",
        "\n",
        "# Load training results\n",
        "baseline_results = pd.read_csv('runs/train/baseline_colab/results.csv')\n",
        "efficientnet_results = pd.read_csv('runs/train/efficientnet_colab_optimized/results.csv')\n",
        "\n",
        "print(\"📊 Training Results Summary:\")\n",
        "print(f\"Baseline final mAP@0.5: {baseline_results['metrics/mAP_0.5'].iloc[-1]:.3f}\")\n",
        "print(f\"EfficientNet final mAP@0.5: {efficientnet_results['metrics/mAP_0.5'].iloc[-1]:.3f}\")\n",
        "improvement = (efficientnet_results['metrics/mAP_0.5'].iloc[-1] / baseline_results['metrics/mAP_0.5'].iloc[-1] - 1) * 100\n",
        "print(f\"Performance improvement: {improvement:+.1f}%\")\n",
        "print()\n",
        "\n",
        "# Plot comparison\n",
        "fig, axes = plt.subplots(2, 2, figsize=(15, 10))\n",
        "\n",
        "# mAP@0.5\n",
        "axes[0,0].plot(baseline_results['epoch'], baseline_results['metrics/mAP_0.5'], label='Baseline YOLOv5s')\n",
        "axes[0,0].plot(efficientnet_results['epoch'], efficientnet_results['metrics/mAP_0.5'], label='EfficientNet-B7')\n",
        "axes[0,0].set_title('mAP@0.5')\n",
        "axes[0,0].legend()\n",
        "\n",
        "# Training loss\n",
        "axes[0,1].plot(baseline_results['epoch'], baseline_results['train/box_loss'], label='Baseline YOLOv5s')\n",
        "axes[0,1].plot(efficientnet_results['epoch'], efficientnet_results['train/box_loss'], label='EfficientNet-B7')\n",
        "axes[0,1].set_title('Training Loss')\n",
        "axes[0,1].legend()\n",
        "\n",
        "plt.tight_layout()\n",
        "plt.show()"
      ]
    }
  ],
  "metadata": {
    "kernelspec": {
      "display_name": "Python 3",
      "language": "python",
      "name": "python3"
    },
    "language_info": {
      "name": "python",
      "version": "3.8.0"
    }
  },
  "nbformat": 4,
  "nbformat_minor": 4
}
